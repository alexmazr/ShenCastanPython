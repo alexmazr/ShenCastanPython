{
 "cells": [
  {
   "cell_type": "markdown",
   "metadata": {},
   "source": [
    "# Shen-Castan Edge Detection\n",
    "Alex Mazur - 10/10/2021"
   ]
  },
  {
   "cell_type": "markdown",
   "metadata": {},
   "source": [
    "Shen-Castan is an edge detection algorithm outlined in Shen and Castans 1990 paper published in IEEE: *New Edge Detection Methods Based on Exponential Filter* (https://ieeexplore-ieee-org.colorado.idm.oclc.org/stamp/stamp.jsp?tp=&arnumber=118199).\n",
    "J.R. Parker's book *Algorithms for Image Processing and Computer Vision* was also consulted. Below you will find a notebook that contains a basic-as-possible implementation of Shen and Castans algorithm.\n",
    "\n",
    "Before we jump in, let's examine what the output of such an algorithm might look like!"
   ]
  },
  {
   "cell_type": "markdown",
   "metadata": {},
   "source": [
    "<h4><center>Below is the image we start with</center></h4>\n",
    "<div><img src=\"track.jpg\" width=\"500\"/></div>\n",
    "<h4><center>Below is the after applying Shen and Castan's smoothing function ISEF</center></h4>\n",
    "<div><img src=\"trackISEF.jpg\" width=\"500\"/></div>\n",
    "<h4><center>Below is the image we end up with</center></h4>\n",
    "<div><img src=\"trackEdges.jpg\" width=\"500\"/></div>"
   ]
  },
  {
   "cell_type": "markdown",
   "metadata": {},
   "source": [
    "### This algorithm can be broken down into the following steps:\n",
    "1. Smooth the image using ISEF\n",
    "2. Compute the band-limited laplacian image (also convert to binary laplacian image where each pixel is a 0 or 1)\n",
    "3. Find the valid zero crossings\n",
    "4. Mark the edges that meet our threshold for \"edgeness\"\n",
    "5. Run all of these steps together\n",
    "\n",
    "The following cell contains project wide imports, as well as important constant definitions."
   ]
  },
  {
   "cell_type": "code",
   "execution_count": 168,
   "metadata": {},
   "outputs": [],
   "source": [
    "import cv2\n",
    "import numpy as np\n",
    "\n",
    "# Constant Values, can impact the resulting image\n",
    "s_factor = 0.9 # Smoothing factor 0 < sf < 1. Higher values make a \"fuzzier\" image\n",
    "window_size = 6 # For computing the adaptive gradient\n",
    "outline = 25 # For ignoring the edge's of the image\n",
    "low_thresh, high_thresh = 2, 2 # Edge threshold\n",
    "do_hysteresis = False\n",
    "thinFactor = 0\n",
    "\n",
    "# Helper Functions\n",
    "def isEdge (row, col, rows, columns):\n",
    "    if row < outline or row >= rows-outline or col < outline or col >= columns-outline:\n",
    "        return True\n",
    "    return False"
   ]
  },
  {
   "cell_type": "markdown",
   "metadata": {},
   "source": [
    "### Step 1: An implementation of ISEF"
   ]
  },
  {
   "cell_type": "code",
   "execution_count": 85,
   "metadata": {},
   "outputs": [],
   "source": [
    "# Takes an image (numpy ndarray) and returns an ndarray with ISEF applied\n",
    "def getISEF (img):\n",
    "    casual = np.zeros_like (img)\n",
    "    anti_casual = np.zeros_like (img)\n",
    "    first_pass = np.zeros_like (img)\n",
    "    rows, columns = img.shape\n",
    "    \n",
    "    b1 = (1.0 - s_factor) / (1.0 + s_factor)\n",
    "    b2 = s_factor * b1\n",
    "    \n",
    "    #################################\n",
    "    # First compute for rows\n",
    "    #################################\n",
    "    \n",
    "    # Compute boundaries for first and last column\n",
    "    for col in range (columns):\n",
    "        casual[0][col] = b1 * img[0][col]\n",
    "        anti_casual[rows-1][col] = b2 * img[rows-1][col]\n",
    "    \n",
    "    # Compute the casual component\n",
    "    for row in range (1, rows):\n",
    "        for col in range (columns):\n",
    "            casual[row][col] = b1 * img[row][col] + s_factor * casual[row-1][col]\n",
    "    \n",
    "    # Compute the anti-casual component\n",
    "    for row in range (rows-2, -1, -1):\n",
    "        for col in range (columns):\n",
    "            anti_casual[row][col] = b2 * img[row][col] + s_factor * anti_casual[row+1][col];\n",
    "    \n",
    "    # Boundary case\n",
    "    for col in range (columns-1):\n",
    "        first_pass[rows-1][col] = casual[rows-1][col];\n",
    "        \n",
    "    # Store the sum of casual and anti-casual components in the result\n",
    "    for row in range (rows-2):\n",
    "        for col in range (columns-1):\n",
    "            first_pass[row][col] = casual[row][col] + anti_casual[row+1][col]\n",
    "            \n",
    "    #################################\n",
    "    # Second compute for columns\n",
    "    #################################\n",
    "    \n",
    "    result = first_pass.copy () # Creates a deep copy so we can maintain our first pass results\n",
    "    \n",
    "    # Compute boundary conditions\n",
    "    for row in range (rows):\n",
    "        casual[row][0] = b1 * first_pass[row][0];\n",
    "        anti_casual[row][columns-1] = b2 * first_pass[row][columns-1];\n",
    "        \n",
    "    # Compute the casual component\n",
    "    for col in range (1, columns):\n",
    "        for row in range (rows):\n",
    "            casual[row][col] = b1 * first_pass[row][col] + s_factor * casual[row][col-1]\n",
    "            \n",
    "    # Compute the anti-casual component\n",
    "    for col in range (columns-2, -1, -1):\n",
    "        for row in range (rows):\n",
    "            anti_casual[row][col] = b2 * first_pass[row][col] + s_factor * anti_casual[row][col+1];\n",
    "    \n",
    "    # Boundary case\n",
    "    for row in range (rows):\n",
    "        result[row][columns-1] = casual[row][columns-1];\n",
    "        \n",
    "    # Final computation, sum casual and anti-casual and store in result\n",
    "    for row in range (rows):\n",
    "        for col in range (columns-1):\n",
    "            result[row][col] = casual[row][col] + anti_casual[row][col+1];\n",
    "\n",
    "    return result\n",
    "\n",
    "# Note, this could be sped up with parallelism in multiple ways. Since image have constant sizes, you could break the image\n",
    "#  into x chunks and use x threads to process.\n",
    "#  ISEF works in two stages, with the second stage relying on the work of the first stage. If there was a thread queue the first\n",
    "#  stage could push it's work onto the queue while another thread processes the incoming work. This would optimization will be \n",
    "#  less than 2x, but it could be usefull to think about. "
   ]
  },
  {
   "cell_type": "markdown",
   "metadata": {},
   "source": [
    "### Step 2: Compute the BLI\n",
    "Shen and Castans paper says that the difference between the original image and the ISEF filtered image is an approximation of the band-limited laplacian image. We can then set all pixels > 0 to 1 to get the final BLI"
   ]
  },
  {
   "cell_type": "code",
   "execution_count": 86,
   "metadata": {},
   "outputs": [],
   "source": [
    "def getBLI (img, imgISEF):\n",
    "    rows, columns = img.shape\n",
    "    result = np.zeros_like (img)\n",
    "    \n",
    "    for row in range (rows):\n",
    "        for col in range (columns):\n",
    "            result[row][col] = float ((imgISEF[row][col] - img[row][col]) > 0.0); # The inner statement returns bool, cast to float\n",
    "    return result"
   ]
  },
  {
   "cell_type": "markdown",
   "metadata": {},
   "source": [
    "### Step 3: Find the zero crossings\n",
    "This involves an algorithm to determine if an \"edge\" conforms to the edge constraints from shen-castan. It then applies an adaptive gradient (also from shen-castan). If an edge is not a candidate then that pixel is zeroed."
   ]
  },
  {
   "cell_type": "code",
   "execution_count": 179,
   "metadata": {},
   "outputs": [],
   "source": [
    "def isEdgeCandidate (imgBLI, imgISEF, row, col):\n",
    "    # Positive z - c (row)\n",
    "    if imgBLI[row][col] == 1.0 and imgBLI[row+1][col] == 0.0:\n",
    "        return True if (imgISEF[row+1][col] - imgISEF[row-1][col] > 0.0) else False\n",
    "    \n",
    "    # Positive z - c (col)\n",
    "    elif imgBLI[row][col] == 1.0 and imgBLI[row][col+1] == 0.0:\n",
    "        return True if (imgISEF[row][col+1] - imgISEF[row][col-1] > 0.0) else False\n",
    "    \n",
    "    # Negative z - c (row)\n",
    "    elif imgBLI[row][col] == 1.0 and imgBLI[row-1][col] == 0.0:\n",
    "        return True if (imgISEF[row+1][col] - imgISEF[row-1][col] < 0.0) else False\n",
    "    \n",
    "    # Negative z - c (col)\n",
    "    elif imgBLI[row][col] == 1.0 and imgBLI[row][col-1] == 0.0:\n",
    "        return True if (imgISEF[row][col+1] - imgISEF[row][col-1] < 0.0) else False\n",
    "    \n",
    "    return False\n",
    "\n",
    "def adaptiveGradient (imgBLI, imgISEF, row, col):\n",
    "    sum_on, sum_off = 0.0, 0.0\n",
    "    num_on, num_off, avg_on, avg_off = 0, 0, 0, 0\n",
    "    window_start, window_end = int(-window_size/2), int(window_size/2)\n",
    "    \n",
    "    for i in range (window_start, window_end):\n",
    "        for j in range (window_start, window_end):\n",
    "            if imgBLI[row+i][col+j] > 0.0:\n",
    "                sum_on += imgISEF[row+i][col+j]\n",
    "                num_on += 1\n",
    "            else:\n",
    "                sum_off += imgISEF[row+i][col+j]\n",
    "                num_off += 1\n",
    "                \n",
    "    avg_off = sum_off / num_off if (sum_off > 0.0) else 0\n",
    "    avg_on = sum_on / num_on if (sum_on > 0.0) else 0\n",
    "    \n",
    "    return avg_off - avg_on\n",
    "\n",
    "def locateZc (imgISEF, imgBLI):\n",
    "    rows, columns = imgISEF.shape\n",
    "    result = np.zeros_like (imgISEF)\n",
    "    for row in range (rows):\n",
    "        for col in range (columns):\n",
    "            if isEdge (row, col, rows, columns):\n",
    "                continue\n",
    "            # If there is an edge candidate here then compute the adaptive gradient (shen&castan), else set 0.0\n",
    "            result[row][col] = adaptiveGradient (imgBLI, imgISEF, row, col) if isEdgeCandidate (imgBLI, imgISEF, row, col) else 0.0\n",
    "    return result"
   ]
  },
  {
   "cell_type": "markdown",
   "metadata": {},
   "source": [
    "### Step 4: Find threshold edges\n",
    "This uses the zero connected image, and the helper function mark_connected, to draw lines of 255 in the image"
   ]
  },
  {
   "cell_type": "code",
   "execution_count": 135,
   "metadata": {},
   "outputs": [],
   "source": [
    "# This function is used to mark connections, this actually \"draws\" the lines\n",
    "edges = None\n",
    "def mark_connected (row, col, level, img):\n",
    "    global edges\n",
    "    if edges[row][col] != 0:\n",
    "        return 0\n",
    "    if img[row][col] == 0.0:\n",
    "        return 0\n",
    "    if img[row][col] > low_thresh:\n",
    "        edges[row][col] = 1\n",
    "    else:\n",
    "        edges[row][col] = 255\n",
    "    \n",
    "    notChainEnd = 0\n",
    "    notChainEnd |= mark_connected(row, col+1, level+1, img);\n",
    "    notChainEnd |= mark_connected(row, col-1, level+1, img);\n",
    "    notChainEnd |= mark_connected(row+1, col+1, level+1, img);\n",
    "    notChainEnd |= mark_connected(row+1, col, level+1, img);\n",
    "    notChainEnd |= mark_connected(row+1, col-1, level+1, img);\n",
    "    notChainEnd |= mark_connected(row-1, col-1, level+1, img);\n",
    "    notChainEnd |= mark_connected(row-1, col, level+1, img);\n",
    "    notChainEnd |= mark_connected(row-1, col+1, level+1, img); \n",
    "    \n",
    "    if notChainEnd and level > 0:\n",
    "        if thinFactor > 0:\n",
    "            if level % thinFactor != 0:\n",
    "                edges[row][col] = 255\n",
    "    \n",
    "    return 1\n",
    "\n",
    "def threshold_edges (img):\n",
    "    global edges\n",
    "    rows, columns = img.shape\n",
    "    result = np.zeros_like (img)\n",
    "    edges = result\n",
    "    # low_thresh, high_thresh = estimate_thresh (rows, columns)\n",
    "    if not do_hysteresis:\n",
    "        low_thresh = high_thresh\n",
    "    \n",
    "    for row in range (rows):\n",
    "        for col in range (columns):\n",
    "            if isEdge (row, col, rows, columns):\n",
    "                continue\n",
    "            if img[row][col] > high_thresh:\n",
    "                mark_connected (row, col, 0, img)\n",
    "                \n",
    "    for row in range (rows):\n",
    "        for col in range (columns):\n",
    "            if edges[row][col] == 255:\n",
    "                edges[row][col] = 0;\n",
    "    return edges"
   ]
  },
  {
   "cell_type": "markdown",
   "metadata": {},
   "source": [
    "### Step 5: Finalize the image\n",
    "Wrap the algorithm driver in a function. This allows for future modifications (such as accounting for color)"
   ]
  },
  {
   "cell_type": "code",
   "execution_count": 188,
   "metadata": {},
   "outputs": [],
   "source": [
    "def shenCastan (img):\n",
    "    img = img.astype (float)\n",
    "    imgISEF = getISEF (img)\n",
    "    imgBLI = getBLI (img, imgISEF)\n",
    "    imgZC = locateZc (imgISEF, imgBLI)\n",
    "    imgEdges = threshold_edges (imgZC)\n",
    "    \n",
    "    rows,columns = imgEdges.shape\n",
    "    for row in range (rows):\n",
    "        for col in range (columns):\n",
    "            imgEdges[row][col] = 255 if imgEdges[row][col] > 0 else 0\n",
    "            \n",
    "    return imgEdges"
   ]
  },
  {
   "cell_type": "markdown",
   "metadata": {},
   "source": [
    "### Running the algorithm"
   ]
  },
  {
   "cell_type": "code",
   "execution_count": 187,
   "metadata": {},
   "outputs": [
    {
     "data": {
      "text/plain": [
       "True"
      ]
     },
     "execution_count": 187,
     "metadata": {},
     "output_type": "execute_result"
    }
   ],
   "source": [
    "img = cv2.imread (\"track.jpg\", 0)\n",
    "cv2.imwrite (\"trackEdges.jpg\", shenCastan (img))"
   ]
  }
 ],
 "metadata": {
  "kernelspec": {
   "display_name": "Python 3",
   "language": "python",
   "name": "python3"
  },
  "language_info": {
   "codemirror_mode": {
    "name": "ipython",
    "version": 3
   },
   "file_extension": ".py",
   "mimetype": "text/x-python",
   "name": "python",
   "nbconvert_exporter": "python",
   "pygments_lexer": "ipython3",
   "version": "3.7.6"
  }
 },
 "nbformat": 4,
 "nbformat_minor": 4
}
